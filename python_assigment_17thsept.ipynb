{
 "cells": [
  {
   "cell_type": "code",
   "execution_count": null,
   "id": "85bb1ac2-e2fe-4d64-a27a-a20809fc24b0",
   "metadata": {},
   "outputs": [],
   "source": [
    "for i in range(11):\n",
    "    print(i,end=\",\")"
   ]
  },
  {
   "cell_type": "markdown",
   "id": "54e6254f-e168-44ff-b6f9-d06aed2a0a85",
   "metadata": {},
   "source": [
    "for loop is used to iterate the every element and chek the condition and while loop is used until the condition will be true it is executed if the contion is false it stops."
   ]
  },
  {
   "cell_type": "code",
   "execution_count": 11,
   "id": "f9b64404-f6f0-4f63-9984-99f6fd4ef461",
   "metadata": {},
   "outputs": [
    {
     "name": "stdout",
     "output_type": "stream",
     "text": [
      "5050\n"
     ]
    }
   ],
   "source": [
    "l=list(range(101))\n",
    "print(sum(l))"
   ]
  },
  {
   "cell_type": "markdown",
   "id": "2de671a2-a454-423f-9542-2c08bac3f996",
   "metadata": {},
   "source": [
    "we iterate through a list by using for loop by writing a list and passing a for loop to iterate every element in list"
   ]
  },
  {
   "cell_type": "code",
   "execution_count": 18,
   "id": "9d6941f9-25a9-402c-8b5c-e2ebaa22d0b0",
   "metadata": {},
   "outputs": [],
   "source": [
    "def product_list():\n",
    "    l=[1,2,3,4,5,6,7,8,9]\n",
    "    x=1\n",
    "    for i in l:\n",
    "        x*=i\n",
    "\n",
    "    return x \n",
    "    "
   ]
  },
  {
   "cell_type": "code",
   "execution_count": 19,
   "id": "0b75530b-569e-4e9c-b08f-01a187e9eab9",
   "metadata": {},
   "outputs": [
    {
     "data": {
      "text/plain": [
       "362880"
      ]
     },
     "execution_count": 19,
     "metadata": {},
     "output_type": "execute_result"
    }
   ],
   "source": [
    "product_list()"
   ]
  },
  {
   "cell_type": "code",
   "execution_count": 2,
   "id": "f6c3161e-7726-49ae-b5ae-27cf46ba8fa3",
   "metadata": {},
   "outputs": [
    {
     "name": "stdout",
     "output_type": "stream",
     "text": [
      "0,2,4,6,8,10,12,14,16,18,20,"
     ]
    }
   ],
   "source": [
    "for i in range(21):\n",
    "    if i%2==0:\n",
    "        print(i,end=\",\")"
   ]
  },
  {
   "cell_type": "code",
   "execution_count": 26,
   "id": "c716ed9a-cbb0-4b80-a2f5-881eedeab9d2",
   "metadata": {},
   "outputs": [],
   "source": [
    "def calculate_factorial(n):\n",
    "    x=1\n",
    "    for i in range(1,n):\n",
    "        if n==0:\n",
    "            print(1)\n",
    "        else:\n",
    "             x*=i\n",
    "    return x"
   ]
  },
  {
   "cell_type": "code",
   "execution_count": 29,
   "id": "613e732c-9200-4e11-b831-3c968fcb25d4",
   "metadata": {},
   "outputs": [
    {
     "data": {
      "text/plain": [
       "24"
      ]
     },
     "execution_count": 29,
     "metadata": {},
     "output_type": "execute_result"
    }
   ],
   "source": [
    "calculate_factorial(5)"
   ]
  },
  {
   "cell_type": "markdown",
   "id": "50d19101-cd13-4c70-a455-381cf66911ab",
   "metadata": {},
   "source": [
    "To iterate a string by using for loop by giving a string and then iterating it  by for loop "
   ]
  },
  {
   "cell_type": "code",
   "execution_count": 40,
   "id": "f5347089-d511-4e69-84b2-7051af1394a6",
   "metadata": {},
   "outputs": [],
   "source": [
    "def fibonacci_sequence(n):\n",
    "    a, b = 0, 1\n",
    "    for i in range(n):\n",
    "        print(a, end=' ')\n",
    "        a, b = b, a + b\n"
   ]
  },
  {
   "cell_type": "code",
   "execution_count": 41,
   "id": "1cdf3d86-f1d9-4c4e-b44b-1232714050af",
   "metadata": {},
   "outputs": [
    {
     "name": "stdout",
     "output_type": "stream",
     "text": [
      "0 1 1 2 3 5 "
     ]
    }
   ],
   "source": [
    "fibonacci_sequence(6)"
   ]
  },
  {
   "cell_type": "code",
   "execution_count": 42,
   "id": "3cea9e33-9c2e-423a-9bb0-5117f2852b79",
   "metadata": {},
   "outputs": [],
   "source": [
    "def count_vowels(n):\n",
    "    count=0\n",
    "    vowels='AEIOUaeiou'\n",
    "    for i in n:\n",
    "        if i in vowels:\n",
    "            count+=1\n",
    "    return count"
   ]
  },
  {
   "cell_type": "code",
   "execution_count": 43,
   "id": "67ab8bf5-51d5-4297-9f51-54ffca994d02",
   "metadata": {},
   "outputs": [
    {
     "data": {
      "text/plain": [
       "5"
      ]
     },
     "execution_count": 43,
     "metadata": {},
     "output_type": "execute_result"
    }
   ],
   "source": [
    "count_vowels('aeiouswppsj')"
   ]
  },
  {
   "cell_type": "code",
   "execution_count": 17,
   "id": "e4c5f763-72b9-41a6-8deb-ae67b92b7b3a",
   "metadata": {},
   "outputs": [],
   "source": [
    "def create_table(n):\n",
    "    for i in range(1,11):\n",
    "        print(f\"{n}x{i}=\",n*i)"
   ]
  },
  {
   "cell_type": "code",
   "execution_count": 18,
   "id": "3f771164-997a-4f3d-8a04-5c53fd44d20e",
   "metadata": {},
   "outputs": [
    {
     "name": "stdout",
     "output_type": "stream",
     "text": [
      "5x1= 5\n",
      "5x2= 10\n",
      "5x3= 15\n",
      "5x4= 20\n",
      "5x5= 25\n",
      "5x6= 30\n",
      "5x7= 35\n",
      "5x8= 40\n",
      "5x9= 45\n",
      "5x10= 50\n"
     ]
    }
   ],
   "source": [
    "create_table(5)"
   ]
  },
  {
   "cell_type": "code",
   "execution_count": 1,
   "id": "c6d7b20f-7e05-44b8-83b2-2988a256344c",
   "metadata": {},
   "outputs": [],
   "source": [
    "def reversed_list(l):\n",
    "    l1=[]\n",
    "    for i in l[::-1]:\n",
    "        l1.append(i)\n",
    "        \n",
    "    return l1"
   ]
  },
  {
   "cell_type": "code",
   "execution_count": 2,
   "id": "cb455147-9cef-4ca7-acf1-0b0300371dfd",
   "metadata": {},
   "outputs": [
    {
     "data": {
      "text/plain": [
       "[9, 8, 7, 6, 5, 4, 3, 2, 1]"
      ]
     },
     "execution_count": 2,
     "metadata": {},
     "output_type": "execute_result"
    }
   ],
   "source": [
    "reversed_list([1,2,3,4,5,6,7,8,9])"
   ]
  },
  {
   "cell_type": "code",
   "execution_count": 14,
   "id": "8422a3a3-6809-427d-ad11-7353da31d2fc",
   "metadata": {},
   "outputs": [],
   "source": [
    "def comman_ele():\n",
    "    l1=[1,2,3,42,5,6,6,7]\n",
    "    l2=[1,2,3,42,34,7]\n",
    "    comman_elements=[]\n",
    "    for i in l1:\n",
    "        if i in l2:\n",
    "            comman_elements.append(i)\n",
    "    return comman_elements    "
   ]
  },
  {
   "cell_type": "code",
   "execution_count": 15,
   "id": "e62bd1ff-bdcc-4c75-bc4b-e18645d9f214",
   "metadata": {},
   "outputs": [
    {
     "data": {
      "text/plain": [
       "[1, 2, 3, 42, 7]"
      ]
     },
     "execution_count": 15,
     "metadata": {},
     "output_type": "execute_result"
    }
   ],
   "source": [
    "comman_ele()"
   ]
  },
  {
   "cell_type": "code",
   "execution_count": 1,
   "id": "955f7b91-1a4c-4f6b-8fc9-22eaa8272fe9",
   "metadata": {},
   "outputs": [],
   "source": [
    "x={'name':'armaan','no.':'7718022069','adress':'thane'}"
   ]
  },
  {
   "cell_type": "markdown",
   "id": "1c8b0db6-5dcc-40a8-8981-b23be6f8e1e4",
   "metadata": {},
   "source": [
    "writing the for loop and loop the keys or values it will be itreated easily"
   ]
  },
  {
   "cell_type": "code",
   "execution_count": 5,
   "id": "2d265c85-3014-44b7-beb1-5fdcb5313bc0",
   "metadata": {},
   "outputs": [
    {
     "name": "stdout",
     "output_type": "stream",
     "text": [
      "armaan\n",
      "7718022069\n",
      "thane\n"
     ]
    }
   ],
   "source": [
    "for i in x.values():\n",
    "    print(i)"
   ]
  },
  {
   "cell_type": "code",
   "execution_count": 13,
   "id": "dff811a9-cdf7-47d9-8395-1bef1da0f476",
   "metadata": {},
   "outputs": [
    {
     "name": "stdout",
     "output_type": "stream",
     "text": [
      "The GCD of 56 and 98 is: 14\n"
     ]
    }
   ],
   "source": [
    "def find_gcd(a, b):\n",
    "    gcd = 1 \n",
    "    for i in range(1, min(a, b) + 1):\n",
    "        if a % i == 0 and b % i == 0:\n",
    "            gcd = i\n",
    "    return gcd\n",
    "\n",
    "num1 = 56\n",
    "num2 = 98\n",
    "\n",
    "gcd = find_gcd(num1, num2)\n",
    "print(f\"The GCD of {num1} and {num2} is: {gcd}\")\n"
   ]
  },
  {
   "cell_type": "code",
   "execution_count": 21,
   "id": "851765f9-fadf-4812-b49f-04f8d78e0e84",
   "metadata": {},
   "outputs": [],
   "source": [
    "def check_palindrome(x):\n",
    "    length =len(x)\n",
    "    is_palindrome=True\n",
    "    for i in range(length//2):\n",
    "        if x[i]!=x[length -i-1]:\n",
    "            is_palindrome=False\n",
    "            break\n",
    "    if is_palindrome:\n",
    "        print('yess')\n",
    "    else:\n",
    "        print('no')"
   ]
  },
  {
   "cell_type": "code",
   "execution_count": 24,
   "id": "1bf3490c-2be0-4254-b344-bdaf781ffb26",
   "metadata": {},
   "outputs": [
    {
     "name": "stdout",
     "output_type": "stream",
     "text": [
      "yess\n"
     ]
    }
   ],
   "source": [
    "check_palindrome('amama')"
   ]
  },
  {
   "cell_type": "code",
   "execution_count": 29,
   "id": "eda036c0-4c0f-415b-8158-4d86c36d3ceb",
   "metadata": {},
   "outputs": [],
   "source": [
    "def remove_duplicates():\n",
    "    l=[1,2,3,4,5,2,3,4,5,6]\n",
    "    l1=[]\n",
    "    for i in l:\n",
    "        if i not in l1:\n",
    "            l1.append(i)\n",
    "    return l1"
   ]
  },
  {
   "cell_type": "code",
   "execution_count": 30,
   "id": "49b19c17-60da-4a89-90a1-063c02de5a3e",
   "metadata": {},
   "outputs": [
    {
     "data": {
      "text/plain": [
       "[1, 2, 3, 4, 5, 6]"
      ]
     },
     "execution_count": 30,
     "metadata": {},
     "output_type": "execute_result"
    }
   ],
   "source": [
    "remove_duplicates()"
   ]
  },
  {
   "cell_type": "code",
   "execution_count": 40,
   "id": "3d2b8346-f5de-45f2-8913-a94a58696d05",
   "metadata": {},
   "outputs": [],
   "source": [
    "def count_word():\n",
    "    count=0\n",
    "    sentence=str(input('enter the sentence:'))\n",
    "    word=str(input('enter the word:'))\n",
    "    for i in sentence.rsplit(' '):\n",
    "        if i==word:\n",
    "            count+=1\n",
    "    return count"
   ]
  },
  {
   "cell_type": "code",
   "execution_count": 41,
   "id": "670d4c8b-010c-43e2-9d7c-3d74ab606ba5",
   "metadata": {},
   "outputs": [
    {
     "name": "stdin",
     "output_type": "stream",
     "text": [
      "enter the sentence: a apple i good apple is red apple is fruit\n",
      "enter the word: apple\n"
     ]
    },
    {
     "data": {
      "text/plain": [
       "3"
      ]
     },
     "execution_count": 41,
     "metadata": {},
     "output_type": "execute_result"
    }
   ],
   "source": [
    "count_word()"
   ]
  },
  {
   "cell_type": "code",
   "execution_count": 44,
   "id": "87e80c2b-1dbb-4433-b707-e651c4ec29ca",
   "metadata": {},
   "outputs": [],
   "source": [
    "def sum_odd():\n",
    "    l=[]\n",
    "    for i in range(51):\n",
    "        if i%2!=0:\n",
    "            l.append(i)\n",
    "    return sum(l)"
   ]
  },
  {
   "cell_type": "code",
   "execution_count": 45,
   "id": "434484ba-2bcd-4b93-ab59-2feac6864f16",
   "metadata": {},
   "outputs": [
    {
     "data": {
      "text/plain": [
       "625"
      ]
     },
     "execution_count": 45,
     "metadata": {},
     "output_type": "execute_result"
    }
   ],
   "source": [
    "sum_odd()"
   ]
  },
  {
   "cell_type": "code",
   "execution_count": 62,
   "id": "8e330126-1d8c-48c2-b16e-96b739b1fd23",
   "metadata": {},
   "outputs": [
    {
     "name": "stdin",
     "output_type": "stream",
     "text": [
      "Enter the year:  2016\n"
     ]
    },
    {
     "name": "stdout",
     "output_type": "stream",
     "text": [
      "2016 is a leap year\n"
     ]
    }
   ],
   "source": [
    "def check_leap_year():\n",
    "    year = int(input('Enter the year: '))\n",
    "    is_leap = False  # Assume it is not a leap year initially\n",
    "\n",
    "    for i in [4, 100, 400]:\n",
    "        if i == 4:\n",
    "            if year % i == 0:\n",
    "                is_leap = True\n",
    "            else:\n",
    "                is_leap = False\n",
    "                break\n",
    "        elif i == 100:\n",
    "            if year % i == 0:\n",
    "                is_leap = False\n",
    "                break\n",
    "        elif i == 400:\n",
    "            if year % i == 0:\n",
    "                is_leap = True\n",
    "            else:\n",
    "                break\n",
    "\n",
    "    if is_leap:\n",
    "        print(f'{year} is a leap year')\n",
    "    else:\n",
    "        print(f'{year} is not a leap year')\n",
    "\n",
    "check_leap_year()\n"
   ]
  },
  {
   "cell_type": "code",
   "execution_count": 65,
   "id": "dafcca22-acc8-45f2-927f-b88c3403aa1c",
   "metadata": {},
   "outputs": [],
   "source": [
    "def  calculate_sqaureroot():\n",
    "    x=int(input('enter the number to find squareroot:'))\n",
    "    for i in range(x+1):\n",
    "        if i**2==x:\n",
    "            print(f'square root for {x} is {i}')"
   ]
  },
  {
   "cell_type": "code",
   "execution_count": 68,
   "id": "8765fa6b-d4a4-46a4-bd23-fc6123c83283",
   "metadata": {},
   "outputs": [
    {
     "name": "stdin",
     "output_type": "stream",
     "text": [
      "enter the number to find squareroot: 40000\n"
     ]
    },
    {
     "name": "stdout",
     "output_type": "stream",
     "text": [
      "square root for 40000 is 200\n"
     ]
    }
   ],
   "source": [
    "calculate_sqaureroot()"
   ]
  },
  {
   "cell_type": "code",
   "execution_count": 83,
   "id": "e39af7f3-3812-40bd-b29a-e63d99bf4908",
   "metadata": {},
   "outputs": [
    {
     "name": "stdout",
     "output_type": "stream",
     "text": [
      "lcm for 4 and 5 is 20\n"
     ]
    }
   ],
   "source": [
    "def get_lcm(a,b):\n",
    "    for i in range(max(a,b),a*b+1):\n",
    "        if i%a ==0 and i%b==0:\n",
    "            return i\n",
    "\n",
    "a=4\n",
    "b=5\n",
    "i=get_lcm(a,b)\n",
    "print(f\"lcm for {a} and {b} is {i}\")"
   ]
  },
  {
   "cell_type": "code",
   "execution_count": 4,
   "id": "d68c5c03-8515-4012-a7a0-df7c63da132d",
   "metadata": {},
   "outputs": [],
   "source": [
    "def check_number():\n",
    "    number=int(input(\"enter the number:\"))\n",
    "    if number>0:\n",
    "        print('the number is positive')\n",
    "    elif number<0:\n",
    "        print(\"the number is negetive\")\n",
    "    else:\n",
    "        print(\"the number is zero\")"
   ]
  },
  {
   "cell_type": "code",
   "execution_count": 5,
   "id": "b71c6557-1c18-4c98-95b7-79734a12d430",
   "metadata": {},
   "outputs": [
    {
     "name": "stdin",
     "output_type": "stream",
     "text": [
      "enter the number: 2\n"
     ]
    },
    {
     "name": "stdout",
     "output_type": "stream",
     "text": [
      "the number is positive\n"
     ]
    }
   ],
   "source": [
    "check_number()"
   ]
  },
  {
   "cell_type": "code",
   "execution_count": 8,
   "id": "aaa013d2-082d-43a3-8ac2-b481bbc6d895",
   "metadata": {},
   "outputs": [],
   "source": [
    "def check_even_odd():\n",
    "    number=int(input('enter the number:'))\n",
    "    if number%2==0:\n",
    "        print('the number is even')\n",
    "    else:\n",
    "        print('the number is odd')"
   ]
  },
  {
   "cell_type": "code",
   "execution_count": 12,
   "id": "115e7937-26bb-493c-9f6f-1e4fd7b707c2",
   "metadata": {},
   "outputs": [
    {
     "name": "stdin",
     "output_type": "stream",
     "text": [
      "enter the number: 7\n"
     ]
    },
    {
     "name": "stdout",
     "output_type": "stream",
     "text": [
      "the number is odd\n"
     ]
    }
   ],
   "source": [
    "check_even_odd()"
   ]
  },
  {
   "cell_type": "markdown",
   "id": "250ba722-895a-4dcd-9ece-aa7548b859b9",
   "metadata": {},
   "source": [
    "we can use nested if else statement to check condition inside a condition by writing if statement with another if stement in it"
   ]
  },
  {
   "cell_type": "code",
   "execution_count": 13,
   "id": "ec1165c1-766d-46e7-bc58-e7091270757a",
   "metadata": {},
   "outputs": [
    {
     "name": "stdin",
     "output_type": "stream",
     "text": [
      "enter the number: 32\n"
     ]
    },
    {
     "name": "stdout",
     "output_type": "stream",
     "text": [
      "the number is greater than zero as well as even number \n"
     ]
    }
   ],
   "source": [
    "\n",
    "#for example\n",
    "n=int(input(\"enter the number:\"))\n",
    "if  n>0:\n",
    "    if n%2==0:\n",
    "        print('the number is greater than zero as well as even number ')\n",
    "    else:\n",
    "        print(\"the number is greater than zero as well as odd number\")\n",
    "elif n<0:\n",
    "    if n%2==0:\n",
    "        print('the number is smaller than zero as well as even number ')\n",
    "    else:\n",
    "        print(\"the number is smaller than zero as well as odd number\")\n",
    "else:\n",
    "    print('the number is zero')"
   ]
  },
  {
   "cell_type": "code",
   "execution_count": 1,
   "id": "08c0d380-91a2-4158-9876-05711e879f27",
   "metadata": {},
   "outputs": [],
   "source": [
    "def check_largest_number(a,b,c):\n",
    "    if a>b and a>c:\n",
    "        print(f\"{a} is the greater number\")\n",
    "    elif b>a and b>c:\n",
    "        print(f\"{b} is the greater number\")\n",
    "    else:\n",
    "        print(f\"{c} is the greater number\")"
   ]
  },
  {
   "cell_type": "code",
   "execution_count": 2,
   "id": "bad1eb48-a586-4e3c-9be1-0b766f48387b",
   "metadata": {},
   "outputs": [
    {
     "name": "stdout",
     "output_type": "stream",
     "text": [
      "11 is the greater number\n"
     ]
    }
   ],
   "source": [
    "check_largest_number(5,10,11)"
   ]
  },
  {
   "cell_type": "code",
   "execution_count": 5,
   "id": "b6c7b91e-0459-4112-9979-77c09a954da6",
   "metadata": {},
   "outputs": [],
   "source": [
    "def absolute_value(a):\n",
    "    if a<0:\n",
    "        print(f\"{-a} is the absolute value\")\n",
    "    else:\n",
    "        print(f\"{a} is the abolute value\")"
   ]
  },
  {
   "cell_type": "code",
   "execution_count": 6,
   "id": "13d7f527-d747-4c75-8a9a-54e4ece111fc",
   "metadata": {},
   "outputs": [
    {
     "name": "stdout",
     "output_type": "stream",
     "text": [
      "5 is the absolute value\n"
     ]
    }
   ],
   "source": [
    "absolute_value(-5)"
   ]
  },
  {
   "cell_type": "code",
   "execution_count": 7,
   "id": "da0276f4-bcaa-447d-a8a8-17f71c4fddeb",
   "metadata": {},
   "outputs": [],
   "source": [
    "def check_vowel_or_consonent(a):\n",
    "    vowels=['a','e','i','o','u','A','E','I','O','U']\n",
    "    if a in vowels:\n",
    "        print(f\"'{a}' is a vowel\")\n",
    "    else:\n",
    "        print(f\"'{a}' is a consonent\")"
   ]
  },
  {
   "cell_type": "code",
   "execution_count": 9,
   "id": "451de6ef-a2b4-4e29-8c47-a6c8801a2c48",
   "metadata": {},
   "outputs": [
    {
     "name": "stdout",
     "output_type": "stream",
     "text": [
      "'a' is a vowel\n"
     ]
    }
   ],
   "source": [
    "check_vowel_or_consonent('a')"
   ]
  },
  {
   "cell_type": "code",
   "execution_count": 10,
   "id": "ae420372-14cc-4adb-9b09-10430912049b",
   "metadata": {},
   "outputs": [
    {
     "name": "stdout",
     "output_type": "stream",
     "text": [
      "'b' is a consonent\n"
     ]
    }
   ],
   "source": [
    "check_vowel_or_consonent('b')"
   ]
  },
  {
   "cell_type": "code",
   "execution_count": 11,
   "id": "93c070dd-84ee-45d2-b736-f7a9b4f91001",
   "metadata": {},
   "outputs": [],
   "source": [
    "def check_voting_eligibility():\n",
    "    age=int(input(\"enter your age:\"))\n",
    "    if age >18:\n",
    "        print(\"you are elligible for voting\")\n",
    "    else:\n",
    "        print(\"sorry! you are not elligible for voting\")"
   ]
  },
  {
   "cell_type": "code",
   "execution_count": 12,
   "id": "0d1fb014-30d8-4583-8591-77056b40a04f",
   "metadata": {},
   "outputs": [
    {
     "name": "stdin",
     "output_type": "stream",
     "text": [
      "enter your age: 21\n"
     ]
    },
    {
     "name": "stdout",
     "output_type": "stream",
     "text": [
      "you are elligible for voting\n"
     ]
    }
   ],
   "source": [
    "check_voting_eligibility()"
   ]
  },
  {
   "cell_type": "code",
   "execution_count": 13,
   "id": "d1f889fe-68f2-47a9-8b40-76db3b9bb761",
   "metadata": {},
   "outputs": [
    {
     "name": "stdin",
     "output_type": "stream",
     "text": [
      "enter your age: 12\n"
     ]
    },
    {
     "name": "stdout",
     "output_type": "stream",
     "text": [
      "sorry! you are not elligible for voting\n"
     ]
    }
   ],
   "source": [
    "check_voting_eligibility()"
   ]
  },
  {
   "cell_type": "code",
   "execution_count": 24,
   "id": "a2947a4c-e84c-49f1-a3c3-fcdc89bba75d",
   "metadata": {},
   "outputs": [],
   "source": [
    "def calculate_discount():\n",
    "    amount=int(input(\"enter the purchase amount:\"))\n",
    "    if amount>100:\n",
    "        print(f\"your discounted price is Rs.{amount - 0.05*amount}\")\n",
    "    elif amount>500:\n",
    "        print(f\"your discounted price is Rs.{amount - 0.07*amount}\")\n",
    "    elif amount>=700:\n",
    "        print(f\"your discounted price is Rs.{amount - 0.15*amount}\")\n",
    "    else:\n",
    "        print(\"your amount is less you are not eligible for discount\")"
   ]
  },
  {
   "cell_type": "code",
   "execution_count": 25,
   "id": "5bb2d8cf-3488-4d17-b629-c8ab75e8d8ea",
   "metadata": {},
   "outputs": [
    {
     "name": "stdin",
     "output_type": "stream",
     "text": [
      "enter the purchase amount: 300\n"
     ]
    },
    {
     "name": "stdout",
     "output_type": "stream",
     "text": [
      "your discounted price is Rs.285.0\n"
     ]
    }
   ],
   "source": [
    "calculate_discount()"
   ]
  },
  {
   "cell_type": "code",
   "execution_count": 26,
   "id": "54f2c2e6-4977-4d23-99e7-b93e782acde4",
   "metadata": {},
   "outputs": [],
   "source": [
    "def check_number_rangeof100to200():\n",
    "    number = int(input(\"Enter the number:\"))\n",
    "    if 100<number<200:\n",
    "        print(f\"{number} is in the range\")\n",
    "    else:\n",
    "        print(f\"{number} is out of range\")"
   ]
  },
  {
   "cell_type": "code",
   "execution_count": 28,
   "id": "472b4f92-8b5b-4599-9ae3-ddd6b5255559",
   "metadata": {},
   "outputs": [
    {
     "name": "stdin",
     "output_type": "stream",
     "text": [
      "Enter the number: 1000\n"
     ]
    },
    {
     "name": "stdout",
     "output_type": "stream",
     "text": [
      "1000 is out of range\n"
     ]
    }
   ],
   "source": [
    "check_number_rangeof100to200()"
   ]
  },
  {
   "cell_type": "code",
   "execution_count": 31,
   "id": "ac62ad35-deea-4ed2-b748-099330c9b434",
   "metadata": {},
   "outputs": [],
   "source": [
    "def cal_grade():\n",
    "    score=int(input(\"enter the score :\"))\n",
    "    if score<35:\n",
    "        print(\"you are failed\")\n",
    "    elif 45>score > 35:\n",
    "        print(\"you have got D grade\")\n",
    "    elif 60>score > 45:\n",
    "        print(\"you have got C grade\")\n",
    "    elif 75> score > 60:\n",
    "        print(\"you have got B grade\")\n",
    "    elif 90 > score > 75:\n",
    "        print(\"you have got A grade\")\n",
    "    elif 100 >score > 90:\n",
    "        print(\"you have got O grade\")\n",
    "    else:\n",
    "        print(\"you are out of range\")"
   ]
  },
  {
   "cell_type": "code",
   "execution_count": 33,
   "id": "e55bacd4-8c88-465b-8f9b-8856723abe27",
   "metadata": {},
   "outputs": [
    {
     "name": "stdin",
     "output_type": "stream",
     "text": [
      "enter the score : 67\n"
     ]
    },
    {
     "name": "stdout",
     "output_type": "stream",
     "text": [
      "you have got B grade\n"
     ]
    }
   ],
   "source": [
    "cal_grade()"
   ]
  },
  {
   "cell_type": "code",
   "execution_count": 37,
   "id": "2bc09bb4-f7fb-4a27-aaa1-69439c6b4731",
   "metadata": {},
   "outputs": [],
   "source": [
    "def check_string():\n",
    "    x=str(input(\"put your string:\"))\n",
    "    if len(x)==0:\n",
    "        print(\"your string is empty\")\n",
    "    else:\n",
    "        print(f\"your string is not empty ,your string length is :{len(x)}\")"
   ]
  },
  {
   "cell_type": "code",
   "execution_count": 39,
   "id": "5e247c57-019f-4ff8-a0db-21c9e0955bc2",
   "metadata": {},
   "outputs": [
    {
     "name": "stdin",
     "output_type": "stream",
     "text": [
      "put your string: armaan\n"
     ]
    },
    {
     "name": "stdout",
     "output_type": "stream",
     "text": [
      "your string is not empty ,your string length is :6\n"
     ]
    }
   ],
   "source": [
    "check_string()"
   ]
  },
  {
   "cell_type": "code",
   "execution_count": 2,
   "id": "a6603edb-e7d6-485a-9922-a967d92dca4b",
   "metadata": {},
   "outputs": [],
   "source": [
    "def check_traingle():\n",
    "    side1=int(input(\"enter the first side:\"))\n",
    "    side2=int(input(\"enter the second side:\"))\n",
    "    side3=int(input(\"enter the third side:\"))\n",
    "    if side1==side2==side3:\n",
    "        print(\"The triangle is equilateral\")\n",
    "    elif side1==side2 or side2==side3:\n",
    "        print(\"The triangle is a isosseles\")\n",
    "    else:\n",
    "        print(\"The triangle is a scalene \")"
   ]
  },
  {
   "cell_type": "code",
   "execution_count": 3,
   "id": "832f203a-e109-46e9-9571-25aa91f3e230",
   "metadata": {},
   "outputs": [
    {
     "name": "stdin",
     "output_type": "stream",
     "text": [
      "enter the first side: 12\n",
      "enter the second side: 12\n",
      "enter the third side: 12\n"
     ]
    },
    {
     "name": "stdout",
     "output_type": "stream",
     "text": [
      "The triangle is equilateral\n"
     ]
    }
   ],
   "source": [
    "check_traingle()"
   ]
  },
  {
   "cell_type": "code",
   "execution_count": 7,
   "id": "2ed499ec-c601-45f8-84de-276f17bb30c3",
   "metadata": {},
   "outputs": [],
   "source": [
    "def weekdays_access():\n",
    "    number=int(input(\"enetr the number:\"))\n",
    "    if number==1:\n",
    "        print(\"sunday\")\n",
    "    elif number==2:\n",
    "        print(\"monday\")\n",
    "    elif number==3:\n",
    "        print(\"tuesday\")\n",
    "    elif  number==4:\n",
    "        print(\"wednesday\")\n",
    "    elif number==5:\n",
    "        print(\"thursday\")\n",
    "    elif number==6:\n",
    "        print(\"friday\")\n",
    "    elif number ==7:\n",
    "        print(\"satuday\")\n",
    "    else:\n",
    "        print(\"you have entered the invalid number\")"
   ]
  },
  {
   "cell_type": "code",
   "execution_count": 8,
   "id": "b0159274-bd11-4482-bc70-c6d2286cafa9",
   "metadata": {},
   "outputs": [
    {
     "name": "stdin",
     "output_type": "stream",
     "text": [
      "enetr the number: 7\n"
     ]
    },
    {
     "name": "stdout",
     "output_type": "stream",
     "text": [
      "satuday\n"
     ]
    }
   ],
   "source": [
    "weekdays_access()"
   ]
  },
  {
   "cell_type": "code",
   "execution_count": 14,
   "id": "204b2965-1eb3-42ac-8b28-ac77e06e0f6c",
   "metadata": {},
   "outputs": [
    {
     "name": "stdin",
     "output_type": "stream",
     "text": [
      "enter the yaer: 2026\n"
     ]
    },
    {
     "name": "stdout",
     "output_type": "stream",
     "text": [
      "it is not a leap year\n"
     ]
    }
   ],
   "source": [
    "\n",
    "year=int(input(\"enter the yaer:\"))\n",
    "if year%4==0:\n",
    "    if year%100==0:\n",
    "        if year%400==0:\n",
    "            print(f\"{year} is a leap year\")\n",
    "        else:\n",
    "            print(\"it is not a leap year\")\n",
    "    else:\n",
    "        print(\"it is a leap year\")\n",
    "else:\n",
    "    print(\"it is not a leap year\")"
   ]
  },
  {
   "cell_type": "code",
   "execution_count": 17,
   "id": "6972ddfc-f9fa-4081-8e37-3279f6e279dc",
   "metadata": {},
   "outputs": [
    {
     "name": "stdin",
     "output_type": "stream",
     "text": [
      "enter the yaer: 2024\n"
     ]
    },
    {
     "name": "stdout",
     "output_type": "stream",
     "text": [
      "it is a leap year\n"
     ]
    }
   ],
   "source": [
    "def check_leap_year():\n",
    "    year=int(input(\"enter the yaer:\"))\n",
    "    if year%4==0:\n",
    "        if year%100==0:\n",
    "            if year%400==0:\n",
    "                return True\n",
    "            else:\n",
    "                return False\n",
    "        else:\n",
    "            return True\n",
    "    else:\n",
    "        return False\n",
    "\n",
    "if check_leap_year():\n",
    "    print(\"it is a leap year\")\n",
    "else:\n",
    "    print(\"it is not a leap year\")"
   ]
  },
  {
   "cell_type": "markdown",
   "id": "9ddb0600-8f6f-4479-a88a-22d55d67205a",
   "metadata": {},
   "source": [
    "In python we use assert for debugging if the condition is False thrn it will print the message not the error\n",
    "in short in code we use key word assert and then we write the condition and with , after that we write the print statement which is the actually the message should be printed"
   ]
  },
  {
   "cell_type": "code",
   "execution_count": 18,
   "id": "6b88fa91-bb9d-4741-84db-1d585952c871",
   "metadata": {},
   "outputs": [
    {
     "name": "stdin",
     "output_type": "stream",
     "text": [
      "Enter your age: 61\n"
     ]
    },
    {
     "name": "stdout",
     "output_type": "stream",
     "text": [
      "CONGRATULATIONS! you are a seniour citizen,you are elligible for discount.\n"
     ]
    }
   ],
   "source": [
    "age=int(input(\"Enter your age:\"))\n",
    "if age>=60:\n",
    "    print(\"CONGRATULATIONS! you are a seniour citizen,you are elligible for discount.\")\n",
    "else:\n",
    "    print(\"SORRY! you are not seniour citizen and not alligible for Discount\")"
   ]
  },
  {
   "cell_type": "code",
   "execution_count": 24,
   "id": "912d168e-c701-4f7c-b1a7-ba3ef1736a21",
   "metadata": {},
   "outputs": [
    {
     "name": "stdin",
     "output_type": "stream",
     "text": [
      "enetr the string: A\n"
     ]
    },
    {
     "name": "stdout",
     "output_type": "stream",
     "text": [
      "it is a upper case\n"
     ]
    }
   ],
   "source": [
    "character=str(input(\"enetr the string:\"))\n",
    "if character ==character.upper():\n",
    "    print(\"it is a upper case\")\n",
    "elif character==character.lower():\n",
    "    print(\"it is a lower case\")\n",
    "else:\n",
    "    print(\"it is neither of the above\")"
   ]
  },
  {
   "cell_type": "code",
   "execution_count": 1,
   "id": "c09eab80-3ee6-4bac-a737-a452a5146896",
   "metadata": {},
   "outputs": [
    {
     "name": "stdout",
     "output_type": "stream",
     "text": [
      "The equation has two real roots: 2.0 and 1.0\n"
     ]
    }
   ],
   "source": [
    "import cmath\n",
    "\n",
    "def find_roots(a, b, c):\n",
    "    if a == 0:\n",
    "        print(\"The coefficient 'a' cannot be zero for a quadratic equation.\")\n",
    "        return\n",
    "    discriminant = b**2 - 4*a*c\n",
    "    root1 = (-b + cmath.sqrt(discriminant)) / (2*a)\n",
    "    root2 = (-b - cmath.sqrt(discriminant)) / (2*a)\n",
    "    if discriminant > 0:\n",
    "        print(f\"The equation has two real roots: {root1.real} and {root2.real}\")\n",
    "    elif discriminant == 0:\n",
    "        print(f\"The equation has one real root: {root1.real}\")\n",
    "    else:\n",
    "        print(f\"The equation has two complex roots: {root1} and {root2}\")\n",
    "\n",
    "# Example usage:\n",
    "a = 1\n",
    "b = -3\n",
    "c = 2\n",
    "find_roots(a, b, c)\n"
   ]
  },
  {
   "cell_type": "code",
   "execution_count": 6,
   "id": "958bf832-7fee-4d8b-bf4a-21ab0e77ddbc",
   "metadata": {},
   "outputs": [
    {
     "name": "stdout",
     "output_type": "stream",
     "text": [
      "it is not a century year\n"
     ]
    }
   ],
   "source": [
    "def chack_century_year(a):\n",
    "    if a%100==0:\n",
    "        return \"it is a century year\"\n",
    "    else:\n",
    "        return \"it is not a century year\"\n",
    "    \n",
    "year=2003\n",
    "result=chack_century_year(year)\n",
    "print(result)"
   ]
  },
  {
   "cell_type": "code",
   "execution_count": 7,
   "id": "79f6b20e-4213-4226-a918-e6f2c7f2e32a",
   "metadata": {},
   "outputs": [
    {
     "name": "stdout",
     "output_type": "stream",
     "text": [
      "16 is a perfect square.\n"
     ]
    }
   ],
   "source": [
    "import math\n",
    "\n",
    "def is_perfect_square(n):\n",
    "    if n < 0:\n",
    "        return False  # Negative numbers cannot be perfect squares\n",
    "\n",
    "    sqrt_n = math.isqrt(n)\n",
    "    if sqrt_n * sqrt_n == n:\n",
    "        return True\n",
    "    else:\n",
    "        return False\n",
    "\n",
    "# Example usage:\n",
    "number = 16\n",
    "\n",
    "if is_perfect_square(number):\n",
    "    print(f\"{number} is a perfect square.\")\n",
    "else:\n",
    "    print(f\"{number} is not a perfect square.\")\n",
    "\n",
    "    "
   ]
  },
  {
   "cell_type": "markdown",
   "id": "a15db6d6-5b14-4219-a334-4391c6e4d378",
   "metadata": {},
   "source": [
    "CONTINUE:conitnue statment is used in a loop while iteration in the loop if condition is true then that iteration is skiped and continue the forward iteration \n",
    "BREAK:break satment is used in a loop while the iteration if the condition is true then iteration is stoped or breaked at that time no more forward iteration is done"
   ]
  },
  {
   "cell_type": "code",
   "execution_count": 10,
   "id": "392ee9ce-3bac-4d48-920e-41791dc59862",
   "metadata": {},
   "outputs": [],
   "source": [
    "def check_BMI(height,weight):\n",
    "    if height<0:\n",
    "        return \"height must be greater then 0\"\n",
    "    if weight<0:\n",
    "        return \"weight must be grater than 0\"\n",
    "    \n",
    "    bmi = weight / (height ** 2)\n",
    "\n",
    "    if bmi < 18.5:\n",
    "        category = \"Underweight\"\n",
    "    elif 18.5 <= bmi < 24.9:\n",
    "        category = \"Normal weight\"\n",
    "    elif 25 <= bmi < 29.9:\n",
    "        category = \"Overweight\"\n",
    "    else:\n",
    "        category = \"Obesity\"\n",
    "\n",
    "    return bmi, category"
   ]
  },
  {
   "cell_type": "code",
   "execution_count": 11,
   "id": "8464a8f6-2ee5-48ef-aa3c-8e53ce5e96f4",
   "metadata": {},
   "outputs": [
    {
     "data": {
      "text/plain": [
       "(1.694915254237288, 'Underweight')"
      ]
     },
     "execution_count": 11,
     "metadata": {},
     "output_type": "execute_result"
    }
   ],
   "source": [
    "check_BMI(5.9,59)"
   ]
  },
  {
   "cell_type": "markdown",
   "id": "e40fa1f7-25ca-488d-b7fc-c42a20e2d6ce",
   "metadata": {},
   "source": [
    "The filter() function in Python is used to filter elements from an iterable (like a list) based on a condition. The condition is typically specified using a function that returns True or False for each element.\n",
    "\n",
    "While filter() itself does not support if-else statements directly, you can define a function that uses if-else statements to return True or False, and then pass this function to filter()."
   ]
  },
  {
   "cell_type": "code",
   "execution_count": 12,
   "id": "098a03c1-eb05-40e2-99cb-f5aa4c980001",
   "metadata": {},
   "outputs": [
    {
     "name": "stdout",
     "output_type": "stream",
     "text": [
      "the number is a prime number\n"
     ]
    }
   ],
   "source": [
    "number=9\n",
    "if number%2!=0:\n",
    "    print(\"the number is a prime number\")\n",
    "else:\n",
    "    print(\"the number is not a prime number\")"
   ]
  },
  {
   "cell_type": "markdown",
   "id": "37d25117-577e-4cbc-8b55-8084942e1c0b",
   "metadata": {},
   "source": [
    "The purpose of the map() function is to transform the items in an iterable by applying a specified function to each item, effectively mapping each original item to a new item based on the function."
   ]
  },
  {
   "cell_type": "code",
   "execution_count": 13,
   "id": "44648255-5c3b-4133-944b-75e88ad84c38",
   "metadata": {},
   "outputs": [
    {
     "name": "stdout",
     "output_type": "stream",
     "text": [
      "[1, 4, 9, 16, 25]\n"
     ]
    }
   ],
   "source": [
    "def square(x):\n",
    "    return x * x\n",
    "\n",
    "numbers = [1, 2, 3, 4, 5]\n",
    "squared_numbers = map(square, numbers)\n",
    "\n",
    "# Convert the map object to a list\n",
    "squared_numbers_list = list(squared_numbers)\n",
    "print(squared_numbers_list)\n"
   ]
  },
  {
   "cell_type": "code",
   "execution_count": 14,
   "id": "f13f296e-c3ef-4280-b5eb-e80622ba8230",
   "metadata": {},
   "outputs": [
    {
     "name": "stdout",
     "output_type": "stream",
     "text": [
      "[1, 4, 9, 16, 25]\n"
     ]
    }
   ],
   "source": [
    "def square(x):\n",
    "    return x * x\n",
    "numbers = [1, 2, 3, 4, 5]\n",
    "squared_numbers = map(square, numbers)\n",
    "squared_numbers_list = list(squared_numbers)\n",
    "print(squared_numbers_list)\n"
   ]
  },
  {
   "cell_type": "markdown",
   "id": "46a69e4f-42ef-440c-9000-e48b31b9a524",
   "metadata": {},
   "source": [
    "map() Function\n",
    "The map() function applies a specified function to each item of an iterable and returns an iterator.\n",
    "\n",
    "\n",
    "List Comprehension\n",
    "List comprehensions provide a concise way to apply a transformation or filter to an iterable and create a new list."
   ]
  },
  {
   "cell_type": "code",
   "execution_count": 1,
   "id": "2072c69e-b49a-48ba-9d1b-d3b8266d6398",
   "metadata": {},
   "outputs": [
    {
     "name": "stdout",
     "output_type": "stream",
     "text": [
      "['APPLE', 'BANANA', 'CHERRY']\n"
     ]
    }
   ],
   "source": [
    "def uppercase(l):\n",
    "    return l.upper()\n",
    "l=['apple','banana','cherry']\n",
    "x=map(uppercase,l)\n",
    "y=list(x)\n",
    "print(y)\n"
   ]
  },
  {
   "cell_type": "markdown",
   "id": "30fedbb1-6d7b-47d2-895b-ab55017db4cc",
   "metadata": {},
   "source": [
    "def cal_len(l):\n",
    "    return len(l)\n",
    "ls=['apple','banana','cherry']\n",
    "lengths=map(cal_len,ls)\n",
    "lengths_list=list(lengths)\n",
    "print(lengths_list)\n"
   ]
  },
  {
   "cell_type": "markdown",
   "id": "9be39e8f-c7e2-4b8f-897f-6137d0583238",
   "metadata": {},
   "source": [
    "we can apply the custom function to many lists by passing the function and the lists by appyling the map function\n",
    "for example.."
   ]
  },
  {
   "cell_type": "code",
   "execution_count": 11,
   "id": "3a314dfc-2f4d-4f24-8264-4b43e5732e2e",
   "metadata": {},
   "outputs": [
    {
     "name": "stdout",
     "output_type": "stream",
     "text": [
      "[11, 22, 33, 44, 55]\n"
     ]
    }
   ],
   "source": [
    "def add(x, y):\n",
    "    return x + y\n",
    "list1 = [1, 2, 3, 4, 5]\n",
    "list2 = [10, 20, 30, 40, 50]\n",
    "result = map(add, list1, list2)\n",
    "result_list = list(result)\n",
    "print(result_list)"
   ]
  },
  {
   "cell_type": "code",
   "execution_count": 12,
   "id": "491ddfb6-fe50-4746-9a8f-c37471c670cb",
   "metadata": {},
   "outputs": [
    {
     "name": "stdout",
     "output_type": "stream",
     "text": [
      "[253.4, 230.0, 302.0, 140.0, 104.0, 167.0]\n"
     ]
    }
   ],
   "source": [
    "def celsius_to_fahrenheit(celsius):\n",
    "    fahrenheit = (celsius * 9/5) + 32\n",
    "    return fahrenheit\n",
    "\n",
    "celsius=[123,110,150,60,40,75]\n",
    "farhenite_temp=map(celsius_to_fahrenheit,celsius)\n",
    "farhenite_list=list(farhenite_temp)\n",
    "print(farhenite_list)"
   ]
  },
  {
   "cell_type": "code",
   "execution_count": 15,
   "id": "a388c76e-f4bd-4a8d-acfb-7db5b643d75e",
   "metadata": {},
   "outputs": [
    {
     "name": "stdout",
     "output_type": "stream",
     "text": [
      "[253, 230, 302, 140, 104, 167]\n"
     ]
    }
   ],
   "source": [
    "l1=[253.4, 230.0, 302.0, 140.0, 104.0, 167.0]\n",
    "l1_map=map(round,l1)\n",
    "l1_round=list(l1_map)\n",
    "print(l1_round)"
   ]
  },
  {
   "cell_type": "markdown",
   "id": "b8f0b2d1-d5f3-4095-a305-b729686efc12",
   "metadata": {},
   "source": [
    "The reduce() function in Python is used to apply a function cumulatively to the items of an iterable (like a list), from left to right, so as to reduce the iterable to a single value. It is part of the functools module."
   ]
  },
  {
   "cell_type": "markdown",
   "id": "cde9707f-f41a-45eb-9529-be220d2cca0f",
   "metadata": {},
   "source": [
    "For Example"
   ]
  },
  {
   "cell_type": "code",
   "execution_count": 3,
   "id": "bee8cace-e3f0-415e-9ae1-6265d9d8f854",
   "metadata": {},
   "outputs": [
    {
     "name": "stdout",
     "output_type": "stream",
     "text": [
      "120\n"
     ]
    }
   ],
   "source": [
    "from functools import reduce\n",
    "numbers = [1, 2, 3, 4, 5]\n",
    "product = reduce(lambda x, y: x * y, numbers)\n",
    "print(product)"
   ]
  },
  {
   "cell_type": "code",
   "execution_count": 4,
   "id": "b5c5012f-92a9-4e29-b5e1-f10098e040ba",
   "metadata": {},
   "outputs": [
    {
     "name": "stdout",
     "output_type": "stream",
     "text": [
      "120\n"
     ]
    }
   ],
   "source": [
    "from functools import reduce\n",
    "numbers = [1, 2, 3, 4, 5]\n",
    "product = reduce(lambda x, y: x * y, numbers)\n",
    "print(product)"
   ]
  },
  {
   "cell_type": "code",
   "execution_count": 8,
   "id": "abad70ce-ac69-4588-8585-30a27a479d54",
   "metadata": {},
   "outputs": [
    {
     "name": "stdout",
     "output_type": "stream",
     "text": [
      "89\n"
     ]
    }
   ],
   "source": [
    "list1=[23,12,34,23,89,56,45,43]\n",
    "def max_func(x,y):\n",
    "    return x if x>y else y\n",
    "\n",
    "maximum=reduce(max_func,list1)\n",
    "print(maximum)"
   ]
  },
  {
   "cell_type": "code",
   "execution_count": 10,
   "id": "40e0c79f-de29-4c78-85aa-faf597b2491f",
   "metadata": {},
   "outputs": [
    {
     "name": "stdout",
     "output_type": "stream",
     "text": [
      "armaanamanyadav\n"
     ]
    }
   ],
   "source": [
    "l=[\"armaan\",\"aman\",\"yadav\"]\n",
    "def concatinate(x,y):\n",
    "    return x+y\n",
    "conca=reduce(concatinate,l)\n",
    "print(str(conca))"
   ]
  },
  {
   "cell_type": "code",
   "execution_count": 15,
   "id": "7b4f144f-6c1a-4e58-a206-9ada0d0e095c",
   "metadata": {},
   "outputs": [
    {
     "name": "stdout",
     "output_type": "stream",
     "text": [
      "120\n"
     ]
    }
   ],
   "source": [
    "n=5\n",
    "facto = reduce(lambda x, y: x * y, range(1, n + 1))\n",
    "print(facto)"
   ]
  },
  {
   "cell_type": "code",
   "execution_count": 26,
   "id": "9d5655b2-40e0-432e-932f-afe55a65a3cd",
   "metadata": {},
   "outputs": [
    {
     "name": "stdout",
     "output_type": "stream",
     "text": [
      "8\n"
     ]
    }
   ],
   "source": [
    "from math import gcd\n",
    "l1=[16,24,32,48]\n",
    "GCD=reduce(gcd,l1)\n",
    "print(GCD)"
   ]
  },
  {
   "cell_type": "code",
   "execution_count": 27,
   "id": "34c3e8ef-5d3f-410a-92dc-786a7ed9d3d0",
   "metadata": {},
   "outputs": [
    {
     "name": "stdout",
     "output_type": "stream",
     "text": [
      "15\n"
     ]
    }
   ],
   "source": [
    "def  sum_of_digitd(l1):\n",
    "    digits=map(int,str(l1))\n",
    "    \n",
    "    return reduce(lambda x,y:x+y,digits)\n",
    "\n",
    "l1=12345\n",
    "print(sum_of_digitd(l1))"
   ]
  },
  {
   "cell_type": "markdown",
   "id": "d00cc9cc-8471-4805-986b-79e93c1a0e3b",
   "metadata": {},
   "source": [
    "\n",
    "The filter() function in Python is used to construct an iterator from elements of an iterable for which a function returns True. This function is useful when you want to filter out elements from a list, tuple, or other iterable based on a specific condition."
   ]
  },
  {
   "cell_type": "code",
   "execution_count": 31,
   "id": "c6b8f664-7ea1-4f15-9b70-c9bfb4e01dba",
   "metadata": {},
   "outputs": [
    {
     "name": "stdout",
     "output_type": "stream",
     "text": [
      "[2, 4, 6, 8, 10, 12, 14]\n"
     ]
    }
   ],
   "source": [
    "def is_even(n):\n",
    "    return n%2==0 \n",
    "l1=[1,2,3,4,5,6,7,8,9,10,11,12,13,14,15]\n",
    "even=filter(is_even,l1)\n",
    "print(list(even))"
   ]
  },
  {
   "cell_type": "code",
   "execution_count": 32,
   "id": "45b44bf8-5f29-4323-b2db-c525f9fd45a7",
   "metadata": {},
   "outputs": [
    {
     "name": "stdout",
     "output_type": "stream",
     "text": [
      "[2, 4, 6, 8, 10, 12, 14]\n"
     ]
    }
   ],
   "source": [
    "def is_even(n):\n",
    "    return n%2==0 \n",
    "l1=[1,2,3,4,5,6,7,8,9,10,11,12,13,14,15]\n",
    "even=filter(is_even,l1)\n",
    "print(list(even))"
   ]
  },
  {
   "cell_type": "code",
   "execution_count": 34,
   "id": "720de8ea-1538-4be8-bd57-7c13843be487",
   "metadata": {},
   "outputs": [
    {
     "name": "stdout",
     "output_type": "stream",
     "text": [
      "['aman', 'armaan']\n"
     ]
    }
   ],
   "source": [
    "def startswith(n):\n",
    "    return n[0]==\"a\"\n",
    "\n",
    "l1=[\"aman\",\"armaan\",\"yadav\",\"pardesi\"]\n",
    "a=filter(startswith,l1)\n",
    "print(list(a))"
   ]
  },
  {
   "cell_type": "code",
   "execution_count": 35,
   "id": "5d0eba54-a9e1-46bf-91b0-a1ebea9fa4c2",
   "metadata": {},
   "outputs": [
    {
     "name": "stdout",
     "output_type": "stream",
     "text": [
      "[1, 3, 5, 7, 9, 11, 13, 15, 17, 19]\n"
     ]
    }
   ],
   "source": [
    "def is_prime(n):\n",
    "    return n%2!=0\n",
    "l1=[1,2,3,4,5,6,7,8,9,10,11,12,13,14,15,16,17,18,19,20]\n",
    "a=filter(is_prime,l1)\n",
    "print(list(a))"
   ]
  },
  {
   "cell_type": "code",
   "execution_count": 41,
   "id": "33c80c36-4c39-4be7-b5c7-27b7571db6c3",
   "metadata": {},
   "outputs": [
    {
     "name": "stdout",
     "output_type": "stream",
     "text": [
      "[1, 2, 3, 4, 5]\n"
     ]
    }
   ],
   "source": [
    "data = [1, None, 2, None, 3, None, 4, 5]\n",
    "filtered_data = list(filter(None, data))\n",
    "print(filtered_data)"
   ]
  },
  {
   "cell_type": "code",
   "execution_count": 43,
   "id": "5b375e1c-1f56-424f-8af5-eaa66bba4ffd",
   "metadata": {},
   "outputs": [
    {
     "name": "stdout",
     "output_type": "stream",
     "text": [
      "['armaan', 'yadav']\n"
     ]
    }
   ],
   "source": [
    "def check_length(n):\n",
    "    return len(n)>4\n",
    "l=[\"armaan\",\"aman\",\"yadav\",\"arm\",\"yad\"]\n",
    "a=filter(check_length,l)\n",
    "print(list(a))"
   ]
  },
  {
   "cell_type": "code",
   "execution_count": 45,
   "id": "0c81c399-6493-4ebf-a823-8d142e2f7d66",
   "metadata": {},
   "outputs": [
    {
     "name": "stdout",
     "output_type": "stream",
     "text": [
      "[6, 6, 7, 8, 85, 65, 48, 56, 6, 7, 9]\n"
     ]
    }
   ],
   "source": [
    "threshhold=5\n",
    "l=[1,2,3,4,5,6,6,7,8,85,65,4,48,56,6,7,9]\n",
    "a=list(filter(lambda x:x>threshhold,l))\n",
    "print(a)"
   ]
  },
  {
   "cell_type": "markdown",
   "id": "3623a786-57fc-4594-a425-05b41759b5be",
   "metadata": {},
   "source": [
    "Recursssion is a concept in which function is called again and again unit the bse condition is executed ,and also Recurssion is differtent from iteration because in iteration the loop starts and ends at the end but in recurssioon the loop satrts and come reverse in path of iteratiion ."
   ]
  },
  {
   "cell_type": "code",
   "execution_count": 46,
   "id": "7c25e9bb-fa67-44a2-abbb-ea07514f4ecf",
   "metadata": {},
   "outputs": [
    {
     "name": "stdout",
     "output_type": "stream",
     "text": [
      "120\n"
     ]
    }
   ],
   "source": [
    "def factoial(n):\n",
    "    if n==1:\n",
    "        return 1\n",
    "    else:\n",
    "        return n*factoial(n-1)\n",
    "n=5\n",
    "print(factoial(n))"
   ]
  },
  {
   "cell_type": "code",
   "execution_count": 48,
   "id": "6541da66-1b17-4d08-bf65-0b5c68f28516",
   "metadata": {},
   "outputs": [
    {
     "name": "stdout",
     "output_type": "stream",
     "text": [
      "8\n"
     ]
    }
   ],
   "source": [
    "def fibbanacci(n):\n",
    "    if n==1 or n==0:\n",
    "        return 1\n",
    "    else:\n",
    "        return fibbanacci(n-1)+fibbanacci(n-2)\n",
    "n=5\n",
    "print(fibbanacci(n))"
   ]
  },
  {
   "cell_type": "code",
   "execution_count": 52,
   "id": "0b3ecb36-92f6-41b5-bd3c-e051f8fec8d9",
   "metadata": {},
   "outputs": [
    {
     "name": "stdout",
     "output_type": "stream",
     "text": [
      "45\n"
     ]
    }
   ],
   "source": [
    "def sum_of_element(l,i=0):\n",
    "    if i>=len(l):\n",
    "        return 0\n",
    "    else:\n",
    "        return l[i]+sum_of_element(l,i+1)\n",
    "        \n",
    "l=[1,2,3,4,5,6,7,8,9]\n",
    "print(sum_of_element(l))"
   ]
  },
  {
   "cell_type": "markdown",
   "id": "24fdefe9-a2b6-4c8b-8349-294e0fc27b13",
   "metadata": {},
   "source": [
    "In recursive function we can preventthe stack overflow Error by giving a proper base case condition by which the iteration will stop."
   ]
  },
  {
   "cell_type": "code",
   "execution_count": 1,
   "id": "8876e3af-3005-44db-897f-83d80c8ba309",
   "metadata": {},
   "outputs": [
    {
     "name": "stdout",
     "output_type": "stream",
     "text": [
      "10\n"
     ]
    }
   ],
   "source": [
    "def gcd(a,b):\n",
    "    if b==0:\n",
    "        return a\n",
    "    else:\n",
    "        return gcd(b,a%b)\n",
    "\n",
    "print(gcd(10,20))"
   ]
  },
  {
   "cell_type": "code",
   "execution_count": 4,
   "id": "5e953e08-39ea-4e8b-b439-d6512fd877b8",
   "metadata": {},
   "outputs": [
    {
     "name": "stdout",
     "output_type": "stream",
     "text": [
      "naamra\n"
     ]
    }
   ],
   "source": [
    "def reverserec(a):\n",
    "    if len(a)==0:\n",
    "        return a\n",
    "    else:\n",
    "        return reverserec(a[1:])+a[0]\n",
    "a=\"armaan\"\n",
    "print(reverserec(a))"
   ]
  },
  {
   "cell_type": "code",
   "execution_count": 5,
   "id": "79471260-7bc4-49c3-8ecb-ebb8416f6347",
   "metadata": {},
   "outputs": [
    {
     "name": "stdout",
     "output_type": "stream",
     "text": [
      "8\n"
     ]
    }
   ],
   "source": [
    "def calpow(num,pow):\n",
    "    if pow==0:\n",
    "        return 1\n",
    "    else:\n",
    "        return num*calpow(num,pow-1)\n",
    "\n",
    "print(calpow(2,3))"
   ]
  },
  {
   "cell_type": "code",
   "execution_count": 4,
   "id": "78cd4526-5aa7-4b5f-860b-d5b5d3cba21c",
   "metadata": {},
   "outputs": [
    {
     "name": "stdout",
     "output_type": "stream",
     "text": [
      "['abc', 'acb', 'bac', 'bca', 'cab', 'cba']\n"
     ]
    }
   ],
   "source": [
    "def permute(s):\n",
    "    # Base case: if the string is empty, return a list containing an empty string\n",
    "    if len(s) == 0:\n",
    "        return ['']\n",
    "\n",
    "    # Recursive case\n",
    "    permutations = []  # List to store all permutations\n",
    "    for i in range(len(s)):\n",
    "        # Extract the current character\n",
    "        current_char = s[i]\n",
    "        # Get the remaining string after removing the current character\n",
    "        remaining_string = s[:i] + s[i+1:]\n",
    "        # Generate all permutations of the remaining string\n",
    "        for perm in permute(remaining_string):\n",
    "            # Insert the current character into each possible position\n",
    "            permutations.append(current_char + perm)\n",
    "\n",
    "    return permutations\n",
    "print(permute(\"abc\"))"
   ]
  },
  {
   "cell_type": "code",
   "execution_count": 10,
   "id": "3d278ee8-a6d9-4837-8d8e-163d977210e0",
   "metadata": {},
   "outputs": [
    {
     "name": "stdout",
     "output_type": "stream",
     "text": [
      "False\n"
     ]
    }
   ],
   "source": [
    "def reverserec(s):\n",
    "    if len(s) <= 1:\n",
    "        return True\n",
    "    # Check if the first and last characters are the same\n",
    "    if s[0] != s[-1]:\n",
    "        return False\n",
    "    # Recursive case: check the substring without the first and last characters\n",
    "    return is_palindrome(s[1:-1])\n",
    "\n",
    "s=\"armaan\"\n",
    "print(reverserec(s))"
   ]
  },
  {
   "cell_type": "markdown",
   "id": "a0c3dc22-a466-4821-84a3-021cd1a1b0a2",
   "metadata": {},
   "source": [
    "def get_combinations(lst):\n",
    "    if len(lst) == 0:\n",
    "        return [[]]\n",
    "    rest_combinations = get_combinations(lst[1:])\n",
    "    current_combinations = []\n",
    "    for combo in rest_combinations:\n",
    "        current_combinations.append(combo)\n",
    "        current_combinations.append([lst[0]] + combo)\n",
    "    \n",
    "    return current_combinations\n",
    "test_list = [1, 2, 3]\n",
    "combinations = get_combinations(test_list)\n",
    "for combo in combinations:\n",
    "    print(combo)\n"
   ]
  },
  {
   "cell_type": "markdown",
   "id": "628e8ba0-aef5-406f-8b99-ab215a272d9a",
   "metadata": {},
   "source": [
    "\n",
    "A function in Python is a block of reusable code that performs a specific task or a set of tasks. Functions are used to organize and modularize code, making it more readable, maintainable, and reusable. They allow you to encapsulate functionality into a single unit that can be called from different parts of your program, often with different inputs to produce different results."
   ]
  },
  {
   "cell_type": "markdown",
   "id": "94e8479a-c086-4a0d-907c-c1e7b85623ec",
   "metadata": {},
   "source": [
    "\"def\" keyword is used to define the fuction foloowed by the arguments or paranthesis in bracket and colon \":\" and after that the body of the code is writtn to be executed and action to be performed "
   ]
  },
  {
   "cell_type": "code",
   "execution_count": null,
   "id": "9fc9f78f-35c4-4c74-b7c5-bd0f925b4ed2",
   "metadata": {},
   "outputs": [],
   "source": [
    "#for eexample\n",
    "def example(argument):\n",
    "    for i in argument:\n",
    "        print(i)\n",
    "print(example(\"armaan\"))"
   ]
  },
  {
   "cell_type": "markdown",
   "id": "3d801123-5dbb-4128-8989-c0867dfe08ec",
   "metadata": {},
   "source": [
    "In function defination we define the function with a code to perform some action and get the required result and in function call we just call a particular function with a name and reuired paranthesis and argument and we get the result..."
   ]
  },
  {
   "cell_type": "code",
   "execution_count": 18,
   "id": "fec1a800-acc0-47cc-b72a-d8ace342bbf9",
   "metadata": {},
   "outputs": [
    {
     "name": "stdout",
     "output_type": "stream",
     "text": [
      "11\n"
     ]
    }
   ],
   "source": [
    "def sum_of_two(a,b):\n",
    "    return a+b\n",
    "\n",
    "print(sum_of_two(5,6))"
   ]
  },
  {
   "cell_type": "markdown",
   "id": "3055b745-941e-4049-868f-e766a98a72b7",
   "metadata": {},
   "source": [
    "function signature is the discription of the function such as name,parameter and any default values"
   ]
  },
  {
   "cell_type": "code",
   "execution_count": 1,
   "id": "d0c93ced-c35b-48e4-b996-85e7d4cd34b6",
   "metadata": {},
   "outputs": [
    {
     "name": "stdout",
     "output_type": "stream",
     "text": [
      "30\n"
     ]
    }
   ],
   "source": [
    "def product_of_two(a,b):\n",
    "    return a*b\n",
    "\n",
    "print(product_of_two(5,6))"
   ]
  },
  {
   "cell_type": "markdown",
   "id": "35db4b37-d3c6-456a-b5de-c468c1099cf3",
   "metadata": {},
   "source": [
    "formal parameters are variable which are defined in function signature and actual arguments are those which are defined in function with the real arguments"
   ]
  },
  {
   "cell_type": "code",
   "execution_count": 8,
   "id": "9a298eab-2288-403b-93ca-f17504dab4f8",
   "metadata": {},
   "outputs": [
    {
     "name": "stdout",
     "output_type": "stream",
     "text": [
      "armaan,hello!\n",
      "None\n"
     ]
    }
   ],
   "source": [
    "def default_values(name,greeting=\"hello!\"):\n",
    "    print(f\"{name},{greeting}\")\n",
    "print(default_values(\"armaan\"))"
   ]
  },
  {
   "cell_type": "markdown",
   "id": "be09029f-b113-4ef4-8012-89b363f103f4",
   "metadata": {},
   "source": [
    "we use keyword argument in python by giving the deafault value in function with argument itself which can be changed by every call of function\n",
    "FOR EXAMPLE:"
   ]
  },
  {
   "cell_type": "code",
   "execution_count": 3,
   "id": "fa817379-9979-44d2-91e9-8d6cb4e5993a",
   "metadata": {},
   "outputs": [
    {
     "name": "stdout",
     "output_type": "stream",
     "text": [
      "21\n",
      "34\n"
     ]
    }
   ],
   "source": [
    "def keywaordarg(a=10,b=11):\n",
    "    return a+b\n",
    "print(keywaordarg())\n",
    "print(keywaordarg(a=23,b=11))"
   ]
  },
  {
   "cell_type": "code",
   "execution_count": 4,
   "id": "ed5e8387-802c-4c6f-af28-513320f074ab",
   "metadata": {},
   "outputs": [
    {
     "name": "stdout",
     "output_type": "stream",
     "text": [
      "45\n"
     ]
    }
   ],
   "source": [
    "def calculatesum(*a):\n",
    "    return sum(a)\n",
    "print(calculatesum(1,2,3,4,5,6,7,8,9))"
   ]
  },
  {
   "cell_type": "markdown",
   "id": "c7e22d41-2190-4d73-8857-7992f71a06a5",
   "metadata": {},
   "source": [
    "*args= it is a argument variable which can accept multiple inputs or values for the execution or action\n",
    "\n",
    "\n",
    "**krwgs=it is a keyword arguments which accepts multiple inputs or values with keyword and values"
   ]
  },
  {
   "cell_type": "markdown",
   "id": "5787652c-adbd-4748-9e70-34d99bc610f3",
   "metadata": {},
   "source": [
    "rerurn statement is used in function to return the particular value and which can be used inside or outside the function \n",
    "\n",
    "FOR EXAMPLE."
   ]
  },
  {
   "cell_type": "code",
   "execution_count": 3,
   "id": "cdd9652c-e8f8-4803-a343-0317c719ecd6",
   "metadata": {},
   "outputs": [
    {
     "name": "stdout",
     "output_type": "stream",
     "text": [
      "15\n"
     ]
    }
   ],
   "source": [
    "def calculate(a):\n",
    "    return sum(a)\n",
    "print(calculate([1,2,3,4,5]))"
   ]
  },
  {
   "cell_type": "markdown",
   "id": "fad91d8d-8ecf-4ea9-9afb-a8f0c16c01bb",
   "metadata": {},
   "source": [
    "The variable scope in python is defined as the variable can accessed and mofied or operationcan be done there two type of variable in python \n",
    "\n",
    "LOCAL VARIABLE :This values can be used locally inside the function.. \n",
    "\n",
    "GLOBSL VARIABLE: This values can be used outside the function globally.."
   ]
  },
  {
   "cell_type": "code",
   "execution_count": 7,
   "id": "039af160-092d-4eba-9413-739a41eccb6c",
   "metadata": {},
   "outputs": [
    {
     "data": {
      "text/plain": [
       "45"
      ]
     },
     "execution_count": 7,
     "metadata": {},
     "output_type": "execute_result"
    }
   ],
   "source": [
    "x=30\n",
    "y=15\n",
    "def global_function():\n",
    "    return x+y\n",
    "global_function()"
   ]
  },
  {
   "cell_type": "code",
   "execution_count": 9,
   "id": "599f3a07-2c4e-48cd-b122-86d75546076d",
   "metadata": {},
   "outputs": [
    {
     "data": {
      "text/plain": [
       "120"
      ]
     },
     "execution_count": 9,
     "metadata": {},
     "output_type": "execute_result"
    }
   ],
   "source": [
    "def fact(a):\n",
    "    if a==1:\n",
    "        return a\n",
    "    else:\n",
    "        return a*fact(a-1)\n",
    "fact(5)"
   ]
  },
  {
   "cell_type": "markdown",
   "id": "2e0d7818-d07b-4305-b614-b811485c6f47",
   "metadata": {},
   "source": [
    "we can access the variable outside the function by defineing the vriable name inside the function and perform the action and execute it.."
   ]
  },
  {
   "cell_type": "markdown",
   "id": "7d7a4c7c-0819-4838-ba3f-35a8f59a426d",
   "metadata": {},
   "source": [
    "lambda function in python are small defineing function which have a exprssion and return the value auomatically and have many values and cannot be used globally and it is used to perform the small action in local way..."
   ]
  },
  {
   "cell_type": "code",
   "execution_count": 13,
   "id": "4dee705d-537a-4a1b-964d-598c6d048fbd",
   "metadata": {},
   "outputs": [
    {
     "name": "stdout",
     "output_type": "stream",
     "text": [
      "(3, 'apple')\n",
      "(1, 'banana')\n",
      "(2, 'mango')\n",
      "(4, 'pineapple')\n"
     ]
    }
   ],
   "source": [
    "data=[(1,\"banana\"),(2,\"mango\"),(3,\"apple\"),(4,\"pineapple\")]\n",
    "sorted_data=sorted(data,key=lambda x:x[1])\n",
    "for item in sorted_data:\n",
    "    print(item)"
   ]
  },
  {
   "cell_type": "markdown",
   "id": "07341cab-b467-4668-86ea-0da45b48f23c",
   "metadata": {},
   "source": [
    "Higher-order functions are functions that operate on other functions. In Python, a higher-order function can either:\n",
    "\n",
    "Take one or more functions as arguments, or\n",
    "Return a function as its result.\n",
    "This concept is useful for creating more abstract and flexible code. Higher-order functions can be used to implement patterns like callbacks, decorators, and function composition."
   ]
  },
  {
   "cell_type": "code",
   "execution_count": 5,
   "id": "ecf9a060-cb01-455c-90af-c708ea0404d6",
   "metadata": {},
   "outputs": [
    {
     "name": "stdout",
     "output_type": "stream",
     "text": [
      "10\n",
      "15\n"
     ]
    }
   ],
   "source": [
    "def make_multiplier(factor):\n",
    "    \n",
    "    def multiplier(x):\n",
    "        return x*factor\n",
    "    return multiplier\n",
    "double=make_multiplier(2)\n",
    "triple=make_multiplier(3)\n",
    "print(double(5))\n",
    "print(triple(5))\n"
   ]
  },
  {
   "cell_type": "code",
   "execution_count": 6,
   "id": "840ff8d3-593f-41bd-a9b3-25cbfdb5225a",
   "metadata": {},
   "outputs": [
    {
     "name": "stdout",
     "output_type": "stream",
     "text": [
      "squred numbers: [1, 4, 9, 16, 25]\n",
      "cubed numbers: [1, 8, 27, 64, 125]\n"
     ]
    }
   ],
   "source": [
    "def apply_func(func,data):\n",
    "    return [func(x) for x in data]\n",
    "\n",
    "def  square(x):\n",
    "    return x*x\n",
    "\n",
    "def cube(x):\n",
    "    return x*x*x\n",
    "\n",
    "numbers=[1,2,3,4,5]\n",
    "squared_numbers=apply_func(square,numbers)\n",
    "cubed_numbers=apply_func(cube,numbers)\n",
    "\n",
    "print(\"squred numbers:\",squared_numbers)\n",
    "print(\"cubed numbers:\",cubed_numbers)"
   ]
  },
  {
   "cell_type": "markdown",
   "id": "305568d7-7f52-4276-ad4c-fa1ef0992ed3",
   "metadata": {},
   "source": [
    "len(): it is used to find the length of the data like string,list,tuple etc.\n",
    "\n",
    "\n",
    "max():it is used  to find the highest value in data.\n",
    "\n",
    "\n",
    "min():it is used to find the lowest or smallest value in data."
   ]
  },
  {
   "cell_type": "code",
   "execution_count": 10,
   "id": "e0d8bcd5-da63-4d70-a25b-466a5aba9128",
   "metadata": {},
   "outputs": [
    {
     "name": "stdout",
     "output_type": "stream",
     "text": [
      "[1, 4, 9, 16, 25]\n"
     ]
    }
   ],
   "source": [
    "def square(x):\n",
    "    return x*x\n",
    "l=[1,2,3,4,5]\n",
    "squared=map(square,l)\n",
    "squared_list=list(squared)\n",
    "print(squared_list)"
   ]
  },
  {
   "cell_type": "markdown",
   "id": "002ccef7-8e06-4543-ad6d-1a609d7cd1ad",
   "metadata": {},
   "source": [
    "filter function is used in python by writing filter folowed by a function or value and data inside bracket it is used to perform the function on data to filter out the particular value or function from data and return data..."
   ]
  },
  {
   "cell_type": "code",
   "execution_count": 16,
   "id": "66f10f2f-617d-46ec-8245-1f9308543650",
   "metadata": {},
   "outputs": [
    {
     "name": "stdout",
     "output_type": "stream",
     "text": [
      "720\n"
     ]
    }
   ],
   "source": [
    "from functools import reduce\n",
    "def product_of_list(l):\n",
    "    return reduce(lambda x,y:x*y ,l)\n",
    "print(product_of_list([1,2,3,4,5,6]))"
   ]
  },
  {
   "cell_type": "markdown",
   "id": "3c1f0a5a-c9af-4c0b-a7b9-811e41dd64ba",
   "metadata": {},
   "source": [
    "Docstrings (documentation strings) in Python are used to provide documentation for functions, classes, and modules. They serve as a convenient way to describe the purpose, behavior, and usage of these code elements. Docstrings are written inside triple quotes (\"\"\" or ''') and are placed immediately after the function, class, or module definition."
   ]
  },
  {
   "cell_type": "code",
   "execution_count": null,
   "id": "02763a8a-6aab-46e0-8359-8cad502ceb1c",
   "metadata": {},
   "outputs": [],
   "source": []
  }
 ],
 "metadata": {
  "kernelspec": {
   "display_name": "Python 3 (ipykernel)",
   "language": "python",
   "name": "python3"
  },
  "language_info": {
   "codemirror_mode": {
    "name": "ipython",
    "version": 3
   },
   "file_extension": ".py",
   "mimetype": "text/x-python",
   "name": "python",
   "nbconvert_exporter": "python",
   "pygments_lexer": "ipython3",
   "version": "3.10.8"
  }
 },
 "nbformat": 4,
 "nbformat_minor": 5
}
